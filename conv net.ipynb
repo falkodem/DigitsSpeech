{
 "cells": [
  {
   "cell_type": "code",
   "execution_count": 1,
   "metadata": {},
   "outputs": [],
   "source": [
    "import torch\n",
    "import random\n",
    "import numpy as np\n",
    "import pandas as pd\n",
    "import matplotlib.pyplot as plt\n",
    "import seaborn as sns\n",
    "\n",
    "random.seed(0)\n",
    "np.random.seed(0)\n",
    "torch.manual_seed(0)\n",
    "torch.cuda.manual_seed(0)\n",
    "torch.backends.cudnn.deterministic = True"
   ]
  },
  {
   "cell_type": "code",
   "execution_count": 2,
   "metadata": {},
   "outputs": [],
   "source": [
    "data = torch.load('D:/rech/VeriRu/words/dataset_conv_cepstr_96.pt')\n",
    "labels = torch.load('D:/rech/VeriRu/words/dataset_labels_cepstr_96.pt')\n",
    "\n",
    "# r=torch.randperm(data.shape[0]) #шафлим\n",
    "X = data\n",
    "y = labels.reshape(1,-1)[0]"
   ]
  },
  {
   "cell_type": "code",
   "execution_count": 3,
   "metadata": {},
   "outputs": [
    {
     "data": {
      "text/plain": [
       "torch.Size([11642, 14, 96])"
      ]
     },
     "execution_count": 3,
     "metadata": {},
     "output_type": "execute_result"
    }
   ],
   "source": [
    "data.shape"
   ]
  },
  {
   "cell_type": "code",
   "execution_count": 4,
   "metadata": {},
   "outputs": [],
   "source": [
    "from sklearn.model_selection import train_test_split\n",
    "X = np.array(X)\n",
    "y = np.array(y)\n",
    "X_train, X_test, y_train, y_test = train_test_split(X, y, test_size=0.2)"
   ]
  },
  {
   "cell_type": "code",
   "execution_count": 5,
   "metadata": {},
   "outputs": [
    {
     "data": {
      "text/plain": [
       "(dtype('float32'), dtype('float32'))"
      ]
     },
     "execution_count": 5,
     "metadata": {},
     "output_type": "execute_result"
    }
   ],
   "source": [
    "X_train.dtype, y_train.dtype"
   ]
  },
  {
   "cell_type": "code",
   "execution_count": 6,
   "metadata": {},
   "outputs": [
    {
     "data": {
      "text/plain": [
       "(9313, 14, 96)"
      ]
     },
     "execution_count": 6,
     "metadata": {},
     "output_type": "execute_result"
    }
   ],
   "source": [
    "X_train.shape"
   ]
  },
  {
   "cell_type": "code",
   "execution_count": 7,
   "metadata": {},
   "outputs": [],
   "source": [
    "X_train = torch.FloatTensor(X_train)\n",
    "X_test = torch.FloatTensor(X_test)\n",
    "y_train = torch.LongTensor(y_train)\n",
    "y_test = torch.LongTensor(y_test)\n",
    "\n",
    "X_train = X_train.unsqueeze(1).float()\n",
    "X_test = X_test.unsqueeze(1).float()"
   ]
  },
  {
   "cell_type": "code",
   "execution_count": 8,
   "metadata": {},
   "outputs": [],
   "source": [
    "class RechNet_Conv(torch.nn.Module):\n",
    "    def __init__(self):\n",
    "        super(RechNet_Conv, self).__init__()\n",
    "        \n",
    "        self.conv1 = torch.nn.Conv2d(\n",
    "            in_channels=1, out_channels=10, kernel_size=(3,7), padding=(1,3))\n",
    "        self.act1  = torch.nn.Tanh()\n",
    "        self.pool1 = torch.nn.MaxPool2d(kernel_size=2, stride=2)\n",
    "       \n",
    "        self.conv2 = torch.nn.Conv2d(\n",
    "            in_channels=10, out_channels=15, kernel_size=(2,5), padding=(1,0))\n",
    "        self.act2  = torch.nn.Tanh()\n",
    "        self.pool2 = torch.nn.MaxPool2d(kernel_size=2, stride=2)\n",
    "        \n",
    "        self.fc1   = torch.nn.Linear(4 * 22 * 15,60)\n",
    "        self.act3  = torch.nn.Tanh()\n",
    "        torch.nn.Dropout(0.5)\n",
    "        \n",
    "        self.fc2   = torch.nn.Linear(60, 25)\n",
    "        self.act4  = torch.nn.Tanh()\n",
    "        torch.nn.Dropout(0.4)\n",
    "\n",
    "        self.fc3   = torch.nn.Linear(25, 10)\n",
    "    \n",
    "    def forward(self, x):\n",
    "        \n",
    "        x = self.conv1(x)\n",
    "        x = self.act1(x)\n",
    "        x = self.pool1(x)\n",
    "        \n",
    "        x = self.conv2(x)\n",
    "        x = self.act2(x)\n",
    "        x = self.pool2(x)\n",
    "\n",
    "        x = x.view(x.size(0), x.size(1) * x.size(2) * x.size(3))\n",
    "        x = self.fc1(x)\n",
    "\n",
    "        x = self.act3(x)\n",
    "        x = self.fc2(x)\n",
    "\n",
    "        x = self.act4(x)\n",
    "        x = self.fc3(x)\n",
    "        \n",
    "        return x\n",
    "    \n",
    "rech_net_conv = RechNet_Conv()"
   ]
  },
  {
   "cell_type": "code",
   "execution_count": 9,
   "metadata": {},
   "outputs": [
    {
     "data": {
      "text/plain": [
       "True"
      ]
     },
     "execution_count": 9,
     "metadata": {},
     "output_type": "execute_result"
    }
   ],
   "source": [
    "torch.cuda.is_available()"
   ]
  },
  {
   "cell_type": "code",
   "execution_count": 10,
   "metadata": {},
   "outputs": [],
   "source": [
    "device = torch.device('cuda:0' if torch.cuda.is_available() else 'cpu')\n",
    "rech_net_conv = rech_net_conv.to(device)"
   ]
  },
  {
   "cell_type": "code",
   "execution_count": 11,
   "metadata": {},
   "outputs": [],
   "source": [
    "loss = torch.nn.CrossEntropyLoss()\n",
    "optimizer = torch.optim.Adam(rech_net_conv.parameters(), lr=3.0e-4)"
   ]
  },
  {
   "cell_type": "code",
   "execution_count": 12,
   "metadata": {},
   "outputs": [
    {
     "name": "stdout",
     "output_type": "stream",
     "text": [
      "tensor(0.7467)\n",
      "tensor(0.9004)\n",
      "tensor(0.9206)\n",
      "tensor(0.9317)\n",
      "tensor(0.9399)\n",
      "tensor(0.9455)\n",
      "tensor(0.9532)\n",
      "tensor(0.9553)\n",
      "tensor(0.9592)\n",
      "tensor(0.9618)\n",
      "tensor(0.9575)\n",
      "tensor(0.9596)\n",
      "tensor(0.9626)\n",
      "tensor(0.9631)\n",
      "tensor(0.9639)\n",
      "tensor(0.9618)\n",
      "tensor(0.9618)\n",
      "tensor(0.9644)\n",
      "tensor(0.9644)\n",
      "tensor(0.9644)\n",
      "tensor(0.9635)\n",
      "tensor(0.9635)\n",
      "tensor(0.9622)\n",
      "tensor(0.9639)\n",
      "tensor(0.9657)\n",
      "tensor(0.9648)\n",
      "tensor(0.9644)\n",
      "tensor(0.9661)\n",
      "tensor(0.9652)\n",
      "tensor(0.9657)\n",
      "tensor(0.9657)\n",
      "tensor(0.9669)\n",
      "tensor(0.9682)\n",
      "tensor(0.9665)\n",
      "tensor(0.9665)\n",
      "tensor(0.9678)\n",
      "tensor(0.9669)\n",
      "tensor(0.9674)\n",
      "tensor(0.9669)\n",
      "tensor(0.9661)\n",
      "tensor(0.9661)\n",
      "tensor(0.9657)\n",
      "tensor(0.9665)\n",
      "tensor(0.9661)\n",
      "tensor(0.9665)\n",
      "tensor(0.9661)\n",
      "tensor(0.9661)\n",
      "tensor(0.9665)\n",
      "tensor(0.9678)\n",
      "tensor(0.9652)\n",
      "tensor(0.9669)\n",
      "tensor(0.9657)\n",
      "tensor(0.9661)\n",
      "tensor(0.9669)\n",
      "tensor(0.9665)\n",
      "tensor(0.9674)\n",
      "tensor(0.9665)\n",
      "tensor(0.9669)\n",
      "tensor(0.9661)\n",
      "tensor(0.9665)\n",
      "tensor(0.9661)\n",
      "tensor(0.9661)\n",
      "tensor(0.9657)\n",
      "tensor(0.9669)\n",
      "tensor(0.9665)\n",
      "tensor(0.9669)\n",
      "tensor(0.9665)\n",
      "tensor(0.9661)\n",
      "tensor(0.9674)\n",
      "tensor(0.9674)\n",
      "tensor(0.9674)\n",
      "tensor(0.9669)\n",
      "tensor(0.9669)\n",
      "tensor(0.9674)\n",
      "tensor(0.9657)\n",
      "tensor(0.9678)\n",
      "tensor(0.9678)\n",
      "tensor(0.9661)\n",
      "tensor(0.9665)\n",
      "tensor(0.9665)\n",
      "tensor(0.9669)\n",
      "tensor(0.9674)\n",
      "tensor(0.9674)\n",
      "tensor(0.9674)\n",
      "tensor(0.9674)\n",
      "tensor(0.9657)\n",
      "tensor(0.9669)\n",
      "tensor(0.9665)\n",
      "tensor(0.9678)\n",
      "tensor(0.9674)\n",
      "tensor(0.9665)\n",
      "tensor(0.9674)\n",
      "tensor(0.9674)\n",
      "tensor(0.9682)\n",
      "tensor(0.9687)\n",
      "tensor(0.9669)\n",
      "tensor(0.9669)\n",
      "tensor(0.9678)\n",
      "tensor(0.9669)\n",
      "tensor(0.9674)\n",
      "tensor(0.9669)\n",
      "tensor(0.9669)\n",
      "tensor(0.9678)\n",
      "tensor(0.9678)\n",
      "tensor(0.9665)\n",
      "tensor(0.9678)\n",
      "tensor(0.9678)\n",
      "tensor(0.9678)\n",
      "tensor(0.9674)\n",
      "tensor(0.9669)\n",
      "tensor(0.9669)\n",
      "tensor(0.9665)\n",
      "tensor(0.9665)\n",
      "tensor(0.9669)\n",
      "tensor(0.9674)\n",
      "tensor(0.9669)\n",
      "tensor(0.9669)\n",
      "tensor(0.9674)\n",
      "tensor(0.9661)\n",
      "tensor(0.9674)\n",
      "tensor(0.9665)\n",
      "tensor(0.9682)\n",
      "tensor(0.9674)\n",
      "tensor(0.9674)\n",
      "tensor(0.9661)\n",
      "tensor(0.9678)\n",
      "tensor(0.9674)\n",
      "tensor(0.9665)\n",
      "tensor(0.9674)\n",
      "tensor(0.9669)\n",
      "tensor(0.9687)\n",
      "tensor(0.9682)\n",
      "tensor(0.9665)\n",
      "tensor(0.9669)\n",
      "tensor(0.9669)\n",
      "tensor(0.9674)\n",
      "tensor(0.9674)\n",
      "tensor(0.9687)\n",
      "tensor(0.9682)\n",
      "tensor(0.9674)\n",
      "tensor(0.9687)\n",
      "tensor(0.9678)\n",
      "tensor(0.9682)\n",
      "tensor(0.9691)\n",
      "tensor(0.9674)\n",
      "tensor(0.9674)\n",
      "tensor(0.9687)\n",
      "tensor(0.9695)\n",
      "tensor(0.9682)\n",
      "tensor(0.9678)\n",
      "tensor(0.9678)\n",
      "tensor(0.9695)\n",
      "tensor(0.9687)\n",
      "tensor(0.9682)\n",
      "tensor(0.9682)\n",
      "tensor(0.9691)\n",
      "tensor(0.9682)\n",
      "tensor(0.9682)\n",
      "tensor(0.9691)\n",
      "tensor(0.9678)\n",
      "tensor(0.9699)\n",
      "tensor(0.9695)\n",
      "tensor(0.9699)\n",
      "tensor(0.9691)\n",
      "tensor(0.9691)\n",
      "tensor(0.9695)\n",
      "tensor(0.9691)\n",
      "tensor(0.9695)\n",
      "tensor(0.9691)\n",
      "tensor(0.9699)\n",
      "tensor(0.9695)\n",
      "tensor(0.9695)\n",
      "tensor(0.9691)\n",
      "tensor(0.9691)\n",
      "tensor(0.9699)\n",
      "tensor(0.9691)\n",
      "tensor(0.9687)\n",
      "tensor(0.9691)\n",
      "tensor(0.9691)\n",
      "tensor(0.9682)\n",
      "tensor(0.9687)\n",
      "tensor(0.9699)\n",
      "tensor(0.9695)\n",
      "tensor(0.9695)\n",
      "tensor(0.9687)\n",
      "tensor(0.9687)\n",
      "tensor(0.9691)\n",
      "tensor(0.9695)\n",
      "tensor(0.9691)\n",
      "tensor(0.9687)\n",
      "tensor(0.9699)\n",
      "tensor(0.9699)\n",
      "tensor(0.9699)\n",
      "tensor(0.9691)\n",
      "tensor(0.9691)\n",
      "tensor(0.9695)\n",
      "tensor(0.9699)\n",
      "tensor(0.9687)\n",
      "tensor(0.9691)\n",
      "tensor(0.9695)\n",
      "tensor(0.9704)\n",
      "tensor(0.9691)\n",
      "tensor(0.9691)\n",
      "tensor(0.9691)\n",
      "tensor(0.9695)\n"
     ]
    }
   ],
   "source": [
    "test_accuracy_history = []\n",
    "test_loss_history = []\n",
    "train_loss_history=[]\n",
    "\n",
    "batch_size = 100\n",
    "\n",
    "X_test = X_test.to(device)\n",
    "y_test = y_test.to(device)\n",
    "\n",
    "for epoch in range(200):\n",
    "    order = np.random.permutation(len(X_train))\n",
    "    \n",
    "    for start_index in range(0, len(X_train), batch_size):\n",
    "        optimizer.zero_grad()\n",
    "        \n",
    "        batch_indexes = order[start_index:start_index+batch_size]\n",
    "        \n",
    "        X_batch = X_train[batch_indexes].to(device)\n",
    "        y_batch = y_train[batch_indexes].to(device)\n",
    "        \n",
    "        preds = rech_net_conv.forward(X_batch) \n",
    "        loss_value = loss(preds, y_batch)\n",
    "        loss_value.backward()\n",
    "        \n",
    "        optimizer.step()\n",
    "                \n",
    "    test_preds = rech_net_conv.forward(X_test)\n",
    "    test_loss_history.append(loss(test_preds, y_test).data.cpu())\n",
    "    \n",
    "    accuracy = (test_preds.argmax(dim=1) == y_test).float().mean().data.cpu()\n",
    "    test_accuracy_history.append(accuracy)\n",
    "    if epoch % 30 == 0:\n",
    "        print(accuracy)\n",
    "    if accuracy>0.9:\n",
    "        print(accuracy)\n",
    "#         break"
   ]
  },
  {
   "cell_type": "code",
   "execution_count": 13,
   "metadata": {},
   "outputs": [
    {
     "data": {
      "text/plain": [
       "[Text(0.5, 0, 'Эпохи обучения'), Text(0, 0.5, 'Accuracy')]"
      ]
     },
     "execution_count": 13,
     "metadata": {},
     "output_type": "execute_result"
    },
    {
     "data": {
      "image/png": "[encoded data removed]",
      "text/plain": [
       "<Figure size 1080x432 with 2 Axes>"
      ]
     },
     "metadata": {
      "needs_background": "light"
     },
     "output_type": "display_data"
    }
   ],
   "source": [
    "fig, (ax1, ax2) = plt.subplots(1, 2,figsize=(15,6))\n",
    "ax1.plot(test_accuracy_history,'tab:blue')\n",
    "ax1.set_title('График Accuracy score')\n",
    "ax1.grid()\n",
    "ax1.set(xlabel='Эпохи обучения', ylabel='Accuracy')\n",
    "\n",
    "ax2.plot(test_loss_history,'tab:red')\n",
    "ax2.set_title('График Loss score')\n",
    "ax2.grid()\n",
    "ax2.set(xlabel='Эпохи обучения', ylabel='Accuracy')"
   ]
  },
  {
   "cell_type": "code",
   "execution_count": null,
   "metadata": {},
   "outputs": [],
   "source": []
  },
  {
   "cell_type": "code",
   "execution_count": null,
   "metadata": {},
   "outputs": [],
   "source": []
  },
  {
   "cell_type": "code",
   "execution_count": 25,
   "metadata": {},
   "outputs": [],
   "source": [
    "test = torch.load('D:/rech/test_conv.pt')\n",
    "test = test.unsqueeze(1).float()\n",
    "test = test.to(device)"
   ]
  },
  {
   "cell_type": "code",
   "execution_count": 26,
   "metadata": {},
   "outputs": [
    {
     "data": {
      "text/plain": [
       "tensor([8, 3, 4, 5, 1, 4, 8], device='cuda:0')"
      ]
     },
     "execution_count": 26,
     "metadata": {},
     "output_type": "execute_result"
    }
   ],
   "source": [
    "preds = lenet5.forward(test)\n",
    "preds.argmax(dim=1)"
   ]
  },
  {
   "cell_type": "markdown",
   "metadata": {},
   "source": [
    "# Сохранение модели"
   ]
  },
  {
   "cell_type": "code",
   "execution_count": null,
   "metadata": {},
   "outputs": [],
   "source": [
    "# Print model's state_dict\n",
    "print(\"Model's state_dict:\")\n",
    "for param_tensor in rech_net.state_dict():\n",
    "    print(param_tensor, \"\\t\", rech_net.state_dict()[param_tensor].size())"
   ]
  },
  {
   "cell_type": "code",
   "execution_count": 21,
   "metadata": {},
   "outputs": [],
   "source": [
    "# Specify a path\n",
    "PATH = \"D:/rech/model/Kursach_conv_1.pt\"\n",
    "\n",
    "# Save\n",
    "torch.save(rech_net_conv.state_dict(), PATH)\n",
    "\n",
    "# Load\n",
    "# lenet5.load_state_dict(torch.load(PATH))\n",
    "# lenet5.eval()\n"
   ]
  }
 ],
 "metadata": {
  "kernelspec": {
   "display_name": "Python 3",
   "language": "python",
   "name": "python3"
  },
  "language_info": {
   "codemirror_mode": {
    "name": "ipython",
    "version": 3
   },
   "file_extension": ".py",
   "mimetype": "text/x-python",
   "name": "python",
   "nbconvert_exporter": "python",
   "pygments_lexer": "ipython3",
   "version": "3.7.9"
  }
 },
 "nbformat": 4,
 "nbformat_minor": 2
}
