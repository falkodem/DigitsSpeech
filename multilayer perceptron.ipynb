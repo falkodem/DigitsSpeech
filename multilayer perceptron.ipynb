{
 "cells": [
  {
   "cell_type": "code",
   "execution_count": 1,
   "metadata": {
    "colab": {},
    "colab_type": "code",
    "id": "DWr6cvb9pS3J"
   },
   "outputs": [],
   "source": [
    "import torch\n",
    "import random\n",
    "import numpy as np\n",
    "import pandas as pd\n",
    "import matplotlib.pyplot as plt\n",
    "import seaborn as sns\n",
    "\n",
    "random.seed(0)\n",
    "np.random.seed(0)\n",
    "torch.manual_seed(0)\n",
    "torch.cuda.manual_seed(0)\n",
    "torch.backends.cudnn.deterministic = True"
   ]
  },
  {
   "cell_type": "code",
   "execution_count": 2,
   "metadata": {},
   "outputs": [],
   "source": [
    "data = pd.read_csv('D:/rech/VeriRu/words/dataset_fc_96.csv',header=None)\n",
    "data = np.array(data)\n",
    "# np.random.shuffle(data)"
   ]
  },
  {
   "cell_type": "code",
   "execution_count": 3,
   "metadata": {},
   "outputs": [],
   "source": [
    "y = data[:,1344]\n",
    "X = data[:,0:1344]"
   ]
  },
  {
   "cell_type": "code",
   "execution_count": 4,
   "metadata": {},
   "outputs": [],
   "source": [
    "from sklearn.model_selection import train_test_split\n",
    "\n",
    "X_train, X_test, y_train, y_test = train_test_split(X, y, test_size=0.2)"
   ]
  },
  {
   "cell_type": "code",
   "execution_count": 5,
   "metadata": {
    "colab": {
     "base_uri": "https://localhost:8080/",
     "height": 35
    },
    "colab_type": "code",
    "id": "hMhsAedlrQF5",
    "outputId": "ae08bd21-79ff-48da-9886-48996a178110"
   },
   "outputs": [
    {
     "data": {
      "text/plain": [
       "(dtype('float64'), dtype('float64'))"
      ]
     },
     "execution_count": 5,
     "metadata": {},
     "output_type": "execute_result"
    }
   ],
   "source": [
    "X_train.dtype, y_train.dtype"
   ]
  },
  {
   "cell_type": "code",
   "execution_count": 6,
   "metadata": {
    "colab": {},
    "colab_type": "code",
    "id": "_yTaVOrPvap6"
   },
   "outputs": [],
   "source": [
    "X_train = torch.FloatTensor(X_train)\n",
    "X_test = torch.FloatTensor(X_test)\n",
    "y_train = torch.LongTensor(y_train)\n",
    "y_test = torch.LongTensor(y_test)"
   ]
  },
  {
   "cell_type": "code",
   "execution_count": 7,
   "metadata": {},
   "outputs": [],
   "source": [
    "class RechNet(torch.nn.Module):\n",
    "    def __init__(self, n_1,n_2):\n",
    "        super(RechNet, self).__init__()\n",
    "        \n",
    "        torch.nn.BatchNorm1d(n_1)\n",
    "        self.fc1 = torch.nn.Linear(96*14, n_1)\n",
    "        torch.nn.Dropout(0.4)\n",
    "        self.ac1 = torch.nn.Sigmoid()\n",
    "        \n",
    "        torch.nn.BatchNorm1d(n_2)\n",
    "        self.fc2 = torch.nn.Linear(n_1, n_2) \n",
    "        torch.nn.Dropout(0.25)\n",
    "        self.ac2 = torch.nn.Sigmoid()\n",
    "#         self.fc3 = torch.nn.Linear(n_2, 10)\n",
    "        \n",
    "        torch.nn.BatchNorm1d(20)\n",
    "        self.fc3 = torch.nn.Linear(n_2, 20) \n",
    "        torch.nn.Dropout(0.25)\n",
    "        self.ac3 = torch.nn.Sigmoid()\n",
    "        self.fc4 = torch.nn.Linear(20, 10) \n",
    "\n",
    "    \n",
    "    def forward(self, x):\n",
    "        x = self.fc1(x)\n",
    "        x = self.ac1(x)\n",
    "        x = self.fc2(x)\n",
    "        x = self.ac2(x)\n",
    "        x = self.fc3(x)\n",
    "        x = self.ac3(x)\n",
    "        x = self.fc4(x)        \n",
    "        \n",
    "        return x\n",
    "    \n",
    "rech_net = RechNet(60,40)"
   ]
  },
  {
   "cell_type": "code",
   "execution_count": 8,
   "metadata": {
    "colab": {},
    "colab_type": "code",
    "id": "k7l65slppS3l"
   },
   "outputs": [],
   "source": [
    "class RechNet(torch.nn.Module):\n",
    "    def __init__(self, n_1,n_2):\n",
    "        super(RechNet, self).__init__()\n",
    "        \n",
    "        torch.nn.BatchNorm1d(n_1)\n",
    "        self.fc1 = torch.nn.Linear(96*14, n_1)\n",
    "        torch.nn.Dropout(0.4)\n",
    "        self.ac1 = torch.nn.Sigmoid()\n",
    "        \n",
    "        torch.nn.BatchNorm1d(n_2)\n",
    "        self.fc2 = torch.nn.Linear(n_1, n_2) \n",
    "        torch.nn.Dropout(0.25)\n",
    "        self.ac2 = torch.nn.Sigmoid()\n",
    "        \n",
    "        self.fc3 = torch.nn.Linear(n_2, 10) \n",
    "\n",
    "    \n",
    "    def forward(self, x):\n",
    "        x = self.fc1(x)\n",
    "        x = self.ac1(x)\n",
    "        x = self.fc2(x)\n",
    "        x = self.ac2(x)\n",
    "        x = self.fc3(x)\n",
    "        return x\n",
    "    \n",
    "rech_net = RechNet(60,30)"
   ]
  },
  {
   "cell_type": "code",
   "execution_count": 9,
   "metadata": {
    "colab": {},
    "colab_type": "code",
    "id": "ShQDv_w-0rz8"
   },
   "outputs": [],
   "source": [
    "# !nvidia-smi"
   ]
  },
  {
   "cell_type": "code",
   "execution_count": 10,
   "metadata": {
    "colab": {},
    "colab_type": "code",
    "id": "iUHy-780po9d",
    "scrolled": true
   },
   "outputs": [],
   "source": [
    "device = torch.device('cuda:0' if torch.cuda.is_available() else 'cpu')\n",
    "rech_net = rech_net.to(device)\n",
    "# list(rech_net.parameters())"
   ]
  },
  {
   "cell_type": "code",
   "execution_count": 11,
   "metadata": {
    "colab": {},
    "colab_type": "code",
    "id": "00_2j2igpS3o"
   },
   "outputs": [],
   "source": [
    "loss = torch.nn.CrossEntropyLoss()\n",
    "optimizer = torch.optim.Adam(rech_net.parameters(), lr=3.0e-4)"
   ]
  },
  {
   "cell_type": "code",
   "execution_count": 12,
   "metadata": {
    "collapsed": true
   },
   "outputs": [
    {
     "name": "stdout",
     "output_type": "stream",
     "text": [
      "tensor(0.5170)\n",
      "tensor(0.9150)\n",
      "tensor(0.9171)\n",
      "tensor(0.9150)\n",
      "tensor(0.9193)\n",
      "tensor(0.9253)\n",
      "tensor(0.9313)\n",
      "tensor(0.9365)\n",
      "tensor(0.9356)\n",
      "tensor(0.9365)\n",
      "tensor(0.9399)\n",
      "tensor(0.9442)\n",
      "tensor(0.9425)\n",
      "tensor(0.9446)\n",
      "tensor(0.9476)\n",
      "tensor(0.9489)\n",
      "tensor(0.9502)\n",
      "tensor(0.9493)\n",
      "tensor(0.9459)\n",
      "tensor(0.9480)\n",
      "tensor(0.9476)\n",
      "tensor(0.9532)\n",
      "tensor(0.9532)\n",
      "tensor(0.9536)\n",
      "tensor(0.9502)\n",
      "tensor(0.9562)\n",
      "tensor(0.9566)\n",
      "tensor(0.9562)\n",
      "tensor(0.9562)\n",
      "tensor(0.9511)\n",
      "tensor(0.9562)\n",
      "tensor(0.9558)\n",
      "tensor(0.9541)\n",
      "tensor(0.9575)\n",
      "tensor(0.9601)\n",
      "tensor(0.9528)\n",
      "tensor(0.9579)\n",
      "tensor(0.9584)\n",
      "tensor(0.9605)\n",
      "tensor(0.9562)\n",
      "tensor(0.9579)\n",
      "tensor(0.9592)\n",
      "tensor(0.9614)\n",
      "tensor(0.9592)\n",
      "tensor(0.9614)\n",
      "tensor(0.9626)\n",
      "tensor(0.9626)\n",
      "tensor(0.9614)\n",
      "tensor(0.9592)\n",
      "tensor(0.9545)\n",
      "tensor(0.9605)\n",
      "tensor(0.9605)\n",
      "tensor(0.9618)\n",
      "tensor(0.9588)\n",
      "tensor(0.9657)\n",
      "tensor(0.9618)\n",
      "tensor(0.9626)\n",
      "tensor(0.9592)\n",
      "tensor(0.9562)\n",
      "tensor(0.9562)\n",
      "tensor(0.9618)\n",
      "tensor(0.9605)\n",
      "tensor(0.9571)\n",
      "tensor(0.9639)\n",
      "tensor(0.9558)\n",
      "tensor(0.9639)\n",
      "tensor(0.9669)\n",
      "tensor(0.9614)\n",
      "tensor(0.9596)\n",
      "tensor(0.9562)\n",
      "tensor(0.9618)\n",
      "tensor(0.9631)\n",
      "tensor(0.9618)\n",
      "tensor(0.9614)\n",
      "tensor(0.9566)\n",
      "tensor(0.9626)\n",
      "tensor(0.9614)\n",
      "tensor(0.9601)\n",
      "tensor(0.9566)\n",
      "tensor(0.9579)\n",
      "tensor(0.9519)\n",
      "tensor(0.9605)\n",
      "tensor(0.9618)\n",
      "tensor(0.9609)\n",
      "tensor(0.9571)\n",
      "tensor(0.9609)\n",
      "tensor(0.9631)\n",
      "tensor(0.9618)\n",
      "tensor(0.9622)\n",
      "tensor(0.9648)\n",
      "tensor(0.9648)\n",
      "tensor(0.9626)\n",
      "tensor(0.9605)\n",
      "tensor(0.9601)\n",
      "tensor(0.9596)\n",
      "tensor(0.9618)\n",
      "tensor(0.9674)\n",
      "tensor(0.9669)\n",
      "tensor(0.9652)\n",
      "tensor(0.9661)\n"
     ]
    }
   ],
   "source": [
    "test_accuracy_history = []\n",
    "test_loss_history = []\n",
    "\n",
    "batch_size = 100\n",
    "\n",
    "X_test = X_test.to(device)\n",
    "y_test = y_test.to(device)\n",
    "\n",
    "for epoch in range(100):\n",
    "    order = np.random.permutation(len(X_train))\n",
    "    \n",
    "    for start_index in range(0, len(X_train), batch_size):\n",
    "        optimizer.zero_grad()\n",
    "        \n",
    "        batch_indexes = order[start_index:start_index+batch_size]\n",
    "        \n",
    "        X_batch = X_train[batch_indexes].to(device)\n",
    "        y_batch = y_train[batch_indexes].to(device)\n",
    "        \n",
    "        preds = rech_net.forward(X_batch) \n",
    "        loss_value = loss(preds, y_batch)\n",
    "        loss_value.backward()\n",
    "        \n",
    "        optimizer.step()\n",
    "                \n",
    "    test_preds = rech_net.forward(X_test)\n",
    "    test_loss_history.append(loss(test_preds, y_test).data.cpu())\n",
    "    \n",
    "    accuracy = (test_preds.argmax(dim=1) == y_test).float().mean().data.cpu()\n",
    "    test_accuracy_history.append(accuracy)\n",
    "    if epoch % 30 == 0:\n",
    "        print(accuracy)\n",
    "    if accuracy>0.9:\n",
    "        print(accuracy)\n",
    "#         break"
   ]
  },
  {
   "cell_type": "code",
   "execution_count": 18,
   "metadata": {},
   "outputs": [
    {
     "data": {
      "text/plain": [
       "0.9660798626019751"
      ]
     },
     "execution_count": 18,
     "metadata": {},
     "output_type": "execute_result"
    }
   ],
   "source": [
    "from sklearn.metrics import f1_score\n",
    "a = y_test.data.cpu()\n",
    "b = test_preds.argmax(dim=1).cpu()\n",
    "f1_score(a,b,average='micro')"
   ]
  },
  {
   "cell_type": "code",
   "execution_count": 13,
   "metadata": {},
   "outputs": [
    {
     "data": {
      "text/plain": [
       "[Text(0.5, 0, 'Эпохи обучения'), Text(0, 0.5, 'Accuracy')]"
      ]
     },
     "execution_count": 13,
     "metadata": {},
     "output_type": "execute_result"
    },
    {
     "data": {
      "image/png": "[encoded data removed]",
      "text/plain": [
       "<Figure size 1080x432 with 2 Axes>"
      ]
     },
     "metadata": {
      "needs_background": "light"
     },
     "output_type": "display_data"
    }
   ],
   "source": [
    "fig, (ax1, ax2) = plt.subplots(1, 2,figsize=(15,6))\n",
    "ax1.plot(test_accuracy_history,'tab:blue')\n",
    "ax1.set_title('График Accuracy score')\n",
    "ax1.grid()\n",
    "ax1.set(xlabel='Эпохи обучения', ylabel='Accuracy')\n",
    "\n",
    "ax2.plot(test_loss_history,'tab:red')\n",
    "ax2.set_title('График Loss score')\n",
    "ax2.grid()\n",
    "ax2.set(xlabel='Эпохи обучения', ylabel='Accuracy')"
   ]
  },
  {
   "cell_type": "markdown",
   "metadata": {},
   "source": [
    "# Cохранение модели"
   ]
  },
  {
   "cell_type": "code",
   "execution_count": null,
   "metadata": {},
   "outputs": [],
   "source": [
    "# Print model's state_dict\n",
    "print(\"Model's state_dict:\")\n",
    "for param_tensor in rech_net.state_dict():\n",
    "    print(param_tensor, \"\\t\", rech_net.state_dict()[param_tensor].size())"
   ]
  },
  {
   "cell_type": "code",
   "execution_count": 61,
   "metadata": {},
   "outputs": [],
   "source": [
    "# Specify a path\n",
    "PATH = \"D:/rech/model/Kursach_fc_100_40.pt\"\n",
    "\n",
    "# Save\n",
    "torch.save(rech_net.state_dict(), PATH)\n",
    "\n",
    "# Load\n",
    "# rech_net.load_state_dict(torch.load(PATH))\n",
    "# rech_net.eval()\n"
   ]
  },
  {
   "cell_type": "code",
   "execution_count": 44,
   "metadata": {},
   "outputs": [
    {
     "ename": "SyntaxError",
     "evalue": "invalid syntax (<ipython-input-44-557c9ee46a7d>, line 1)",
     "output_type": "error",
     "traceback": [
      "\u001b[1;36m  File \u001b[1;32m\"<ipython-input-44-557c9ee46a7d>\"\u001b[1;36m, line \u001b[1;32m1\u001b[0m\n\u001b[1;33m    //////////////////////\u001b[0m\n\u001b[1;37m     ^\u001b[0m\n\u001b[1;31mSyntaxError\u001b[0m\u001b[1;31m:\u001b[0m invalid syntax\n"
     ]
    }
   ],
   "source": [
    "//////////////////////"
   ]
  },
  {
   "cell_type": "code",
   "execution_count": 108,
   "metadata": {},
   "outputs": [],
   "source": [
    "test = pd.read_csv('D:/rech/test_fc.csv',header=None)\n",
    "test = np.array(test)\n",
    "test = torch.FloatTensor(test)\n",
    "test = test.to(device)"
   ]
  },
  {
   "cell_type": "code",
   "execution_count": 109,
   "metadata": {},
   "outputs": [],
   "source": [
    "preds = rech_net.forward(test)"
   ]
  },
  {
   "cell_type": "code",
   "execution_count": 110,
   "metadata": {},
   "outputs": [
    {
     "data": {
      "text/plain": [
       "tensor([2, 3, 4, 5, 7, 7, 8], device='cuda:0')"
      ]
     },
     "execution_count": 110,
     "metadata": {},
     "output_type": "execute_result"
    }
   ],
   "source": [
    "preds.argmax(dim=1)"
   ]
  },
  {
   "cell_type": "code",
   "execution_count": 48,
   "metadata": {},
   "outputs": [
    {
     "data": {
      "text/plain": [
       "array([5., 8., 8., 1., 9., 2., 1., 1., 4., 8., 3., 5., 1., 6., 0., 7., 3.,\n",
       "       4., 0., 7., 6., 5., 2., 3., 0., 2., 5., 8., 3., 6., 5., 0., 9., 6.,\n",
       "       1., 9., 1., 7., 9., 8., 9., 8., 8., 6., 3., 2., 9., 1., 6., 6., 5.,\n",
       "       9., 8., 1., 7., 4., 4., 1., 2., 2., 5., 4., 4., 1., 5., 0., 0., 1.,\n",
       "       3., 3., 5., 3., 2., 3., 7., 5., 8., 9., 3., 9., 2., 8., 2., 3., 5.,\n",
       "       7., 0., 0., 7., 6., 7., 2., 0., 7., 7., 3., 4., 7., 9., 4., 0., 4.,\n",
       "       6., 5., 2., 9., 8., 6., 8., 4., 2., 7., 1., 9., 0., 6., 6., 0., 4.,\n",
       "       4.])"
      ]
     },
     "execution_count": 48,
     "metadata": {},
     "output_type": "execute_result"
    }
   ],
   "source": [
    "y"
   ]
  },
  {
   "cell_type": "code",
   "execution_count": 111,
   "metadata": {},
   "outputs": [
    {
     "data": {
      "text/plain": [
       "0.8571428571428571"
      ]
     },
     "execution_count": 111,
     "metadata": {},
     "output_type": "execute_result"
    }
   ],
   "source": [
    "6/7"
   ]
  },
  {
   "cell_type": "code",
   "execution_count": null,
   "metadata": {},
   "outputs": [],
   "source": []
  }
 ],
 "metadata": {
  "accelerator": "GPU",
  "colab": {
   "collapsed_sections": [],
   "name": "Lesson 5 Digits Recognition Video.ipynb",
   "provenance": [],
   "version": "0.3.2"
  },
  "kernelspec": {
   "display_name": "Python 3",
   "language": "python",
   "name": "python3"
  },
  "language_info": {
   "codemirror_mode": {
    "name": "ipython",
    "version": 3
   },
   "file_extension": ".py",
   "mimetype": "text/x-python",
   "name": "python",
   "nbconvert_exporter": "python",
   "pygments_lexer": "ipython3",
   "version": "3.7.9"
  }
 },
 "nbformat": 4,
 "nbformat_minor": 1
}
